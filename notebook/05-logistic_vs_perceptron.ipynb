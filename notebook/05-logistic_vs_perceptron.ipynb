{
 "cells": [
  {
   "cell_type": "code",
   "execution_count": 1,
   "metadata": {
    "collapsed": true
   },
   "outputs": [],
   "source": [
    "# ロジスティック回帰とパーセプトロンの比較\n",
    "#\n",
    "# 2015/04/24 ver1.0\n",
    "#\n",
    "\n",
    "import numpy as np\n",
    "import matplotlib.pyplot as plt\n",
    "import pandas as pd\n",
    "from pandas import Series, DataFrame\n",
    "\n",
    "from numpy.random import rand, multivariate_normal\n",
    "pd.options.mode.chained_assignment = None\n",
    "\n",
    "%matplotlib inline"
   ]
  },
  {
   "cell_type": "code",
   "execution_count": 2,
   "metadata": {
    "collapsed": true
   },
   "outputs": [],
   "source": [
    "#------------#\n",
    "# Parameters #\n",
    "#------------#\n",
    "Variances = [5,10,30,50] # 両クラス共通の分散（4種類の分散で計算を実施）\n"
   ]
  },
  {
   "cell_type": "code",
   "execution_count": 3,
   "metadata": {
    "collapsed": true
   },
   "outputs": [],
   "source": [
    "# データセット {x_n,y_n,type_n} を用意\n",
    "def prepare_dataset(variance):\n",
    "    n1 = 10\n",
    "    n2 = 10\n",
    "    mu1 = [7,7]\n",
    "    mu2 = [-3,-3]\n",
    "    cov1 = np.array([[variance,0],[0,variance]])\n",
    "    cov2 = np.array([[variance,0],[0,variance]])\n",
    "\n",
    "    df1 = DataFrame(multivariate_normal(mu1,cov1,n1),columns=['x','y'])\n",
    "    df1['type'] = 1\n",
    "    df2 = DataFrame(multivariate_normal(mu2,cov2,n2),columns=['x','y'])\n",
    "    df2['type'] = 0\n",
    "    df = pd.concat([df1,df2],ignore_index=True)\n",
    "    df = df.reindex(np.random.permutation(df.index)).reset_index(drop=True)\n",
    "    return df"
   ]
  },
  {
   "cell_type": "code",
   "execution_count": 4,
   "metadata": {
    "collapsed": true
   },
   "outputs": [],
   "source": [
    "# ロジスティック回帰\n",
    "def run_logistic(train_set, subplot):\n",
    "    w = np.array([[0],[0.1],[0.1]])\n",
    "    phi = train_set[['x','y']]\n",
    "    phi['bias'] = 1\n",
    "    phi = phi.as_matrix(columns=['bias','x','y'])\n",
    "    t = train_set[['type']]\n",
    "    t = t.as_matrix()\n",
    "\n",
    "    # 最大30回のIterationを実施\n",
    "    for i in range(30):\n",
    "        # IRLS法によるパラメータの修正\n",
    "        y = np.array([])\n",
    "        for line in phi:\n",
    "            a = np.dot(line, w)\n",
    "            y = np.append(y, [1.0/(1.0+np.exp(-a))])\n",
    "        r = np.diag(y*(1-y)) \n",
    "        y = y[np.newaxis,:].T\n",
    "        tmp1 = np.linalg.inv(np.dot(np.dot(phi.T, r),phi))\n",
    "        tmp2 = np.dot(phi.T, (y-t))\n",
    "        w_new = w - np.dot(tmp1, tmp2)\n",
    "        # パラメータの変化が 0.1% 未満になったら終了\n",
    "        if np.dot((w_new-w).T, (w_new-w)) < 0.001 * np.dot(w.T, w):\n",
    "            w = w_new\n",
    "            break\n",
    "        w = w_new\n",
    "\n",
    "    # 分類誤差の計算\n",
    "    w0, w1, w2 = w[0], w[1], w[2]\n",
    "    err = 0\n",
    "    for index, point in train_set.iterrows():\n",
    "        x, y, type = point.x, point.y, point.type\n",
    "        type = type * 2 - 1\n",
    "        if type * (w0 + w1*x + w2*y) < 0:\n",
    "            err += 1\n",
    "    err_rate = err * 100 / len(train_set)\n",
    "\n",
    "    # 結果を表示\n",
    "    xmin, xmax = train_set.x.min()-5, train_set.x.max()+10\n",
    "    linex = np.arange(xmin-5, xmax+5)\n",
    "    liney = - linex * w1 / w2 - w0 / w2\n",
    "    label = \"ERR %.2f%%\" % err_rate\n",
    "    subplot.plot(linex,liney ,label=label, color='blue')\n",
    "    subplot.legend(loc=1)"
   ]
  },
  {
   "cell_type": "code",
   "execution_count": 5,
   "metadata": {
    "collapsed": true
   },
   "outputs": [],
   "source": [
    "# パーセプトロン\n",
    "def run_perceptron(train_set, subplot):\n",
    "    w0 = w1 = w2 = 0.0\n",
    "    bias = 0.5 * (train_set.x.mean() + train_set.y.mean())\n",
    "\n",
    "    # Iterationを30回実施\n",
    "    for i in range(30):\n",
    "        # 確率的勾配降下法によるパラメータの修正\n",
    "        for index, point in train_set.iterrows():\n",
    "            x, y, type = point.x, point.y, point.type\n",
    "            type = type*2-1\n",
    "            if type * (w0*bias + w1*x + w2*y) <= 0:\n",
    "                w0 += type * 1\n",
    "                w1 += type * x\n",
    "                w2 += type * y\n",
    "    # 分類誤差の計算\n",
    "    err = 0\n",
    "    for index, point in train_set.iterrows():\n",
    "        x, y, type = point.x, point.y, point.type\n",
    "        type = type*2-1\n",
    "        if type * (w0*bias + w1*x + w2*y) <= 0:\n",
    "            err += 1\n",
    "    err_rate = err * 100 / len(train_set)\n",
    "\n",
    "    # 結果を表示\n",
    "    xmin, xmax = train_set.x.min()-5, train_set.x.max()+10\n",
    "    linex = np.arange(xmin-5, xmax+5)\n",
    "    liney = - linex * w1 / w2 - bias * w0 / w2\n",
    "    label = \"ERR %.2f%%\" % err_rate\n",
    "    subplot.plot(linex, liney, label=label, color='red', linestyle='--')\n",
    "    subplot.legend(loc=1)\n"
   ]
  },
  {
   "cell_type": "code",
   "execution_count": 6,
   "metadata": {
    "collapsed": true
   },
   "outputs": [],
   "source": [
    "# データを準備してロジスティック回帰とパーセプトロンを実行\n",
    "def run_simulation(variance, subplot):\n",
    "    train_set = prepare_dataset(variance)\n",
    "    train_set1 = train_set[train_set['type']==1]\n",
    "    train_set2 = train_set[train_set['type']==0]\n",
    "    ymin, ymax = train_set.y.min()-5, train_set.y.max()+10\n",
    "    xmin, xmax = train_set.x.min()-5, train_set.x.max()+10\n",
    "    subplot.set_ylim([ymin-1, ymax+1])\n",
    "    subplot.set_xlim([xmin-1, xmax+1])\n",
    "    subplot.scatter(train_set1.x, train_set1.y, marker='o')\n",
    "    subplot.scatter(train_set2.x, train_set2.y, marker='x')\n",
    "\n",
    "    run_logistic(train_set, subplot)\n",
    "    run_perceptron(train_set, subplot)\n"
   ]
  },
  {
   "cell_type": "code",
   "execution_count": 7,
   "metadata": {
    "collapsed": false
   },
   "outputs": [
    {
     "data": {
      "image/png": "[encoded data removed]",
      "text/plain": [
       "<matplotlib.figure.Figure at 0x11702a160>"
      ]
     },
     "metadata": {},
     "output_type": "display_data"
    }
   ],
   "source": [
    "fig = plt.figure()\n",
    "plt.suptitle('Blue: Logistic Regression, Red: Perceptron')\n",
    "for c, variance in enumerate(Variances):\n",
    "    subplot = fig.add_subplot(2,2,c+1)\n",
    "    run_simulation(variance, subplot)\n",
    "\n",
    "plt.tight_layout()"
   ]
  }
 ],
 "metadata": {
  "hide_input": false,
  "kernelspec": {
   "display_name": "Python 3",
   "language": "python",
   "name": "python3"
  },
  "language_info": {
   "codemirror_mode": {
    "name": "ipython",
    "version": 3
   },
   "file_extension": ".py",
   "mimetype": "text/x-python",
   "name": "python",
   "nbconvert_exporter": "python",
   "pygments_lexer": "ipython3",
   "version": "3.5.1"
  },
  "toc": {
   "toc_cell": false,
   "toc_number_sections": true,
   "toc_threshold": 6,
   "toc_window_display": false
  }
 },
 "nbformat": 4,
 "nbformat_minor": 0
}
