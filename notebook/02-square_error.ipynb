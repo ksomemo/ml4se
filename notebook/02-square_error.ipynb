{
 "cells": [
  {
   "cell_type": "code",
   "execution_count": 18,
   "metadata": {
    "collapsed": true
   },
   "outputs": [],
   "source": [
    "# 推定量の一致性と不偏性の確認\n",
    "#\n",
    "# 2015/06/01 ver1.0\n",
    "import numpy as np\n",
    "import matplotlib.pyplot as plt\n",
    "import pandas as pd\n",
    "\n",
    "from pandas import Series, DataFrame\n",
    "from numpy.random import normal\n",
    "%matplotlib inline"
   ]
  },
  {
   "cell_type": "code",
   "execution_count": 4,
   "metadata": {
    "collapsed": true
   },
   "outputs": [],
   "source": [
    "N=10            # サンプルを取得する位置 x の個数\n",
    "M=[0,1,3,9]     # 多項式の次数\n"
   ]
  },
  {
   "cell_type": "code",
   "execution_count": 5,
   "metadata": {
    "collapsed": true
   },
   "outputs": [],
   "source": [
    "# データセット {x_n,y_n} (n=1...N) を用意\n",
    "def create_dataset(num):\n",
    "    dataset = DataFrame(columns=['x','y'])\n",
    "    for i in range(num):\n",
    "        x = float(i)/float(num-1)\n",
    "        y = np.sin(2*np.pi*x) + normal(scale=0.3)\n",
    "        dataset = dataset.append(Series([x,y], index=['x','y']),\n",
    "                                 ignore_index=True)\n",
    "    return dataset"
   ]
  },
  {
   "cell_type": "code",
   "execution_count": 6,
   "metadata": {
    "collapsed": true
   },
   "outputs": [],
   "source": [
    "# 平方根平均二乗誤差（Root mean square error）を計算\n",
    "def rms_error(dataset, f):\n",
    "    err = 0.0\n",
    "    for index, line in dataset.iterrows():\n",
    "        x, y = line.x, line.y\n",
    "        err += 0.5 * (y - f(x))**2\n",
    "    return np.sqrt(2 * err / len(dataset))\n"
   ]
  },
  {
   "cell_type": "code",
   "execution_count": 3,
   "metadata": {
    "collapsed": true
   },
   "outputs": [],
   "source": [
    "# 最小二乗法で解を求める\n",
    "def resolve(dataset, m):\n",
    "    t = dataset.y\n",
    "    phi = DataFrame()\n",
    "    for i in range(0,m+1):\n",
    "        p = dataset.x**i\n",
    "        p.name=\"x**%d\" % i\n",
    "        phi = pd.concat([phi,p], axis=1)\n",
    "    tmp = np.linalg.inv(np.dot(phi.T, phi))\n",
    "    ws = np.dot(np.dot(tmp, phi.T), t)\n",
    "\n",
    "    def f(x):\n",
    "        y = 0\n",
    "        for i, w in enumerate(ws):\n",
    "            y += w * (x ** i)\n",
    "        return y\n",
    "\n",
    "    return (f, ws)\n"
   ]
  },
  {
   "cell_type": "code",
   "execution_count": 8,
   "metadata": {
    "collapsed": false
   },
   "outputs": [
    {
     "data": {
      "text/html": [
       "<div>\n",
       "<table border=\"1\" class=\"dataframe\">\n",
       "  <thead>\n",
       "    <tr style=\"text-align: right;\">\n",
       "      <th></th>\n",
       "      <th>x</th>\n",
       "      <th>y</th>\n",
       "    </tr>\n",
       "  </thead>\n",
       "  <tbody>\n",
       "    <tr>\n",
       "      <th>5</th>\n",
       "      <td>0.555556</td>\n",
       "      <td>-0.341825</td>\n",
       "    </tr>\n",
       "    <tr>\n",
       "      <th>6</th>\n",
       "      <td>0.666667</td>\n",
       "      <td>-0.702253</td>\n",
       "    </tr>\n",
       "    <tr>\n",
       "      <th>7</th>\n",
       "      <td>0.777778</td>\n",
       "      <td>-1.122032</td>\n",
       "    </tr>\n",
       "    <tr>\n",
       "      <th>8</th>\n",
       "      <td>0.888889</td>\n",
       "      <td>-1.414048</td>\n",
       "    </tr>\n",
       "    <tr>\n",
       "      <th>9</th>\n",
       "      <td>1.000000</td>\n",
       "      <td>0.055326</td>\n",
       "    </tr>\n",
       "  </tbody>\n",
       "</table>\n",
       "</div>"
      ],
      "text/plain": [
       "          x         y\n",
       "5  0.555556 -0.341825\n",
       "6  0.666667 -0.702253\n",
       "7  0.777778 -1.122032\n",
       "8  0.888889 -1.414048\n",
       "9  1.000000  0.055326"
      ]
     },
     "execution_count": 8,
     "metadata": {},
     "output_type": "execute_result"
    }
   ],
   "source": [
    "train_set = create_dataset(N)\n",
    "train_set.tail()"
   ]
  },
  {
   "cell_type": "code",
   "execution_count": 9,
   "metadata": {
    "collapsed": false
   },
   "outputs": [
    {
     "data": {
      "text/html": [
       "<div>\n",
       "<table border=\"1\" class=\"dataframe\">\n",
       "  <thead>\n",
       "    <tr style=\"text-align: right;\">\n",
       "      <th></th>\n",
       "      <th>x</th>\n",
       "      <th>y</th>\n",
       "    </tr>\n",
       "  </thead>\n",
       "  <tbody>\n",
       "    <tr>\n",
       "      <th>5</th>\n",
       "      <td>0.555556</td>\n",
       "      <td>-0.469578</td>\n",
       "    </tr>\n",
       "    <tr>\n",
       "      <th>6</th>\n",
       "      <td>0.666667</td>\n",
       "      <td>-1.153547</td>\n",
       "    </tr>\n",
       "    <tr>\n",
       "      <th>7</th>\n",
       "      <td>0.777778</td>\n",
       "      <td>-0.489982</td>\n",
       "    </tr>\n",
       "    <tr>\n",
       "      <th>8</th>\n",
       "      <td>0.888889</td>\n",
       "      <td>-1.085632</td>\n",
       "    </tr>\n",
       "    <tr>\n",
       "      <th>9</th>\n",
       "      <td>1.000000</td>\n",
       "      <td>0.031396</td>\n",
       "    </tr>\n",
       "  </tbody>\n",
       "</table>\n",
       "</div>"
      ],
      "text/plain": [
       "          x         y\n",
       "5  0.555556 -0.469578\n",
       "6  0.666667 -1.153547\n",
       "7  0.777778 -0.489982\n",
       "8  0.888889 -1.085632\n",
       "9  1.000000  0.031396"
      ]
     },
     "execution_count": 9,
     "metadata": {},
     "output_type": "execute_result"
    }
   ],
   "source": [
    "test_set = create_dataset(N)\n",
    "test_set.tail()"
   ]
  },
  {
   "cell_type": "code",
   "execution_count": 11,
   "metadata": {
    "collapsed": false
   },
   "outputs": [
    {
     "data": {
      "image/png": "[encoded data removed]",
      "text/plain": [
       "<matplotlib.figure.Figure at 0x10b874898>"
      ]
     },
     "metadata": {},
     "output_type": "display_data"
    }
   ],
   "source": [
    "df_ws = DataFrame()\n",
    "fig = plt.figure()\n",
    "for c, m in enumerate(M):\n",
    "    f, ws = resolve(train_set, m)\n",
    "    df_ws = df_ws.append(Series(ws,name=\"M=%d\" % m))\n",
    "\n",
    "    subplot = fig.add_subplot(2,2,c+1)\n",
    "    subplot.set_xlim(-0.05,1.05)\n",
    "    subplot.set_ylim(-1.5,1.5)\n",
    "    subplot.set_title(\"M=%d\" % m)\n",
    "\n",
    "    # トレーニングセットを表示\n",
    "    subplot.scatter(train_set.x, train_set.y, marker='o', color='blue')\n",
    "\n",
    "    # 真の曲線を表示\n",
    "    linex = np.linspace(0,1,101)\n",
    "    liney = np.sin(2*np.pi*linex)\n",
    "    subplot.plot(linex, liney, color='green', linestyle='--')\n",
    "\n",
    "    # 多項式近似の曲線を表示\n",
    "    linex = np.linspace(0,1,101)\n",
    "    liney = f(linex)\n",
    "    label = \"E(RMS)=%.2f\" % rms_error(train_set, f)\n",
    "    subplot.plot(linex, liney, color='red', label=label)\n",
    "    subplot.legend(loc=1)\n",
    "\n",
    "plt.tight_layout()"
   ]
  },
  {
   "cell_type": "code",
   "execution_count": 19,
   "metadata": {
    "collapsed": false
   },
   "outputs": [
    {
     "data": {
      "text/html": [
       "<div>\n",
       "<table border=\"1\" class=\"dataframe\">\n",
       "  <thead>\n",
       "    <tr style=\"text-align: right;\">\n",
       "      <th></th>\n",
       "      <th>M=0</th>\n",
       "      <th>M=1</th>\n",
       "      <th>M=3</th>\n",
       "      <th>M=9</th>\n",
       "    </tr>\n",
       "  </thead>\n",
       "  <tbody>\n",
       "    <tr>\n",
       "      <th>0</th>\n",
       "      <td>-0.228665</td>\n",
       "      <td>0.346303</td>\n",
       "      <td>-0.659563</td>\n",
       "      <td>-0.824286</td>\n",
       "    </tr>\n",
       "    <tr>\n",
       "      <th>1</th>\n",
       "      <td>NaN</td>\n",
       "      <td>-1.149937</td>\n",
       "      <td>13.932676</td>\n",
       "      <td>111.651020</td>\n",
       "    </tr>\n",
       "    <tr>\n",
       "      <th>2</th>\n",
       "      <td>NaN</td>\n",
       "      <td>NaN</td>\n",
       "      <td>-38.071341</td>\n",
       "      <td>-1976.964968</td>\n",
       "    </tr>\n",
       "    <tr>\n",
       "      <th>3</th>\n",
       "      <td>NaN</td>\n",
       "      <td>NaN</td>\n",
       "      <td>24.696113</td>\n",
       "      <td>15741.069942</td>\n",
       "    </tr>\n",
       "    <tr>\n",
       "      <th>4</th>\n",
       "      <td>NaN</td>\n",
       "      <td>NaN</td>\n",
       "      <td>NaN</td>\n",
       "      <td>-68187.879800</td>\n",
       "    </tr>\n",
       "    <tr>\n",
       "      <th>5</th>\n",
       "      <td>NaN</td>\n",
       "      <td>NaN</td>\n",
       "      <td>NaN</td>\n",
       "      <td>174227.080605</td>\n",
       "    </tr>\n",
       "    <tr>\n",
       "      <th>6</th>\n",
       "      <td>NaN</td>\n",
       "      <td>NaN</td>\n",
       "      <td>NaN</td>\n",
       "      <td>-270285.224218</td>\n",
       "    </tr>\n",
       "    <tr>\n",
       "      <th>7</th>\n",
       "      <td>NaN</td>\n",
       "      <td>NaN</td>\n",
       "      <td>NaN</td>\n",
       "      <td>250316.990526</td>\n",
       "    </tr>\n",
       "    <tr>\n",
       "      <th>8</th>\n",
       "      <td>NaN</td>\n",
       "      <td>NaN</td>\n",
       "      <td>NaN</td>\n",
       "      <td>-127313.519377</td>\n",
       "    </tr>\n",
       "    <tr>\n",
       "      <th>9</th>\n",
       "      <td>NaN</td>\n",
       "      <td>NaN</td>\n",
       "      <td>NaN</td>\n",
       "      <td>27367.675106</td>\n",
       "    </tr>\n",
       "  </tbody>\n",
       "</table>\n",
       "</div>"
      ],
      "text/plain": [
       "        M=0       M=1        M=3            M=9\n",
       "0 -0.228665  0.346303  -0.659563      -0.824286\n",
       "1       NaN -1.149937  13.932676     111.651020\n",
       "2       NaN       NaN -38.071341   -1976.964968\n",
       "3       NaN       NaN  24.696113   15741.069942\n",
       "4       NaN       NaN        NaN  -68187.879800\n",
       "5       NaN       NaN        NaN  174227.080605\n",
       "6       NaN       NaN        NaN -270285.224218\n",
       "7       NaN       NaN        NaN  250316.990526\n",
       "8       NaN       NaN        NaN -127313.519377\n",
       "9       NaN       NaN        NaN   27367.675106"
      ]
     },
     "execution_count": 19,
     "metadata": {},
     "output_type": "execute_result"
    }
   ],
   "source": [
    "# 係数の値を表示\n",
    "df_ws.T"
   ]
  },
  {
   "cell_type": "code",
   "execution_count": 17,
   "metadata": {
    "collapsed": false
   },
   "outputs": [
    {
     "data": {
      "text/plain": [
       "<matplotlib.axes._subplots.AxesSubplot at 0x11983d940>"
      ]
     },
     "execution_count": 17,
     "metadata": {},
     "output_type": "execute_result"
    },
    {
     "data": {
      "image/png": "[encoded data removed]",
      "text/plain": [
       "<matplotlib.figure.Figure at 0x116f1ef28>"
      ]
     },
     "metadata": {},
     "output_type": "display_data"
    }
   ],
   "source": [
    "# トレーニングセットとテストセットでの誤差の変化を表示\n",
    "df = DataFrame(columns=['Training set','Test set'])\n",
    "for m in range(0,10):   # 多項式の次数\n",
    "    f, ws = resolve(train_set, m)\n",
    "    train_error = rms_error(train_set, f)\n",
    "    test_error = rms_error(test_set, f)\n",
    "    df = df.append(\n",
    "            Series([train_error, test_error],\n",
    "                index=['Training set','Test set']),\n",
    "            ignore_index=True)\n",
    "df.plot(title='RMS Error', style=['-','--'], grid=True, ylim=(0,0.9))"
   ]
  }
 ],
 "metadata": {
  "hide_input": false,
  "kernelspec": {
   "display_name": "Python 3",
   "language": "python",
   "name": "python3"
  },
  "language_info": {
   "codemirror_mode": {
    "name": "ipython",
    "version": 3
   },
   "file_extension": ".py",
   "mimetype": "text/x-python",
   "name": "python",
   "nbconvert_exporter": "python",
   "pygments_lexer": "ipython3",
   "version": "3.5.1"
  },
  "toc": {
   "toc_cell": false,
   "toc_number_sections": true,
   "toc_threshold": 6,
   "toc_window_display": false
  }
 },
 "nbformat": 4,
 "nbformat_minor": 0
}
