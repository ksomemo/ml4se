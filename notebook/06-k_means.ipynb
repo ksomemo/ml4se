{
 "cells": [
  {
   "cell_type": "code",
   "execution_count": 3,
   "metadata": {
    "collapsed": false
   },
   "outputs": [],
   "source": [
    "# k平均法による画像の減色処理\n",
    "#\n",
    "# 2015/04/24 ver1.0\n",
    "#\n",
    "\n",
    "import numpy as np\n",
    "from numpy.random import randint\n",
    "from PIL import Image\n",
    "\n",
    "# add for jupyter notebook\n",
    "from IPython.display import Image as DisplayImage"
   ]
  },
  {
   "cell_type": "code",
   "execution_count": 4,
   "metadata": {
    "collapsed": true
   },
   "outputs": [],
   "source": [
    "#------------#\n",
    "# Parameters #\n",
    "#------------#\n",
    "Colors = [2, 3, 5, 16]  # 減色後の色数（任意の個数の色数を指定できます）\n"
   ]
  },
  {
   "cell_type": "code",
   "execution_count": 29,
   "metadata": {
    "collapsed": false
   },
   "outputs": [],
   "source": [
    "# k平均法による減色処理\n",
    "def run_kmeans(pixels, k):\n",
    "    cls = [0] * len(pixels)\n",
    "\n",
    "    # 代表色の初期値をランダムに設定\n",
    "    center = []\n",
    "    for i in range(k):\n",
    "        center.append(np.array([randint(256), randint(256), randint(256)]))\n",
    "    print(\"Initial centers:\")\n",
    "    print(list(map(lambda x: x.tolist(), center)))\n",
    "    print(\"========================\")\n",
    "    distortion = 0.0\n",
    "\n",
    "    # 最大50回のIterationを実施\n",
    "    for iter_num in range(50): \n",
    "        center_new = []\n",
    "        for i in range(k):\n",
    "            center_new.append(np.array([0,0,0]))\n",
    "        num_points = [0] * k\n",
    "        distortion_new = 0.0\n",
    "\n",
    "        # E Phase: 各データが属するグループ（代表色）を計算\n",
    "        for pix, point in enumerate(pixels):\n",
    "            min_dist = 256*256*3\n",
    "            point = np.array(point)\n",
    "            for i in range(k):\n",
    "                d = sum([x*x for x in point-center[i]])\n",
    "                if d < min_dist:\n",
    "                    min_dist = d\n",
    "                    cls[pix] = i\n",
    "            center_new[cls[pix]] += point\n",
    "            num_points[cls[pix]] += 1\n",
    "            distortion_new += min_dist\n",
    "\n",
    "        # M Phase: 新しい代表色を計算\n",
    "        for i in range(k):\n",
    "#            center_new[i] = center_new[i] / num_points[i]\n",
    "            center_new[i] = center_new[i] // num_points[i]\n",
    "        center = center_new\n",
    "        print(list(map(lambda x: x.tolist(), center)))\n",
    "        print(\"Distortion: J=%d\" % distortion_new)\n",
    "\n",
    "        # Distortion(J)の変化が0.1%未満になったら終了\n",
    "        if iter_num > 0 and distortion - distortion_new < distortion * 0.001:\n",
    "            break\n",
    "        distortion = distortion_new\n",
    "\n",
    "    # 画像データの各ピクセルを代表色で置き換え\n",
    "    for pix, point in enumerate(pixels):\n",
    "        pixels[pix] = tuple(center[cls[pix]])\n",
    "\n",
    "    return pixels\n",
    "     "
   ]
  },
  {
   "cell_type": "code",
   "execution_count": 27,
   "metadata": {
    "collapsed": false
   },
   "outputs": [
    {
     "data": {
      "text/plain": [
       "'/Users/knt/programming/python/ml4se/notebook'"
      ]
     },
     "execution_count": 27,
     "metadata": {},
     "output_type": "execute_result"
    }
   ],
   "source": [
    "import subprocess\n",
    "cur_dir = subprocess.check_output([\"pwd\"]).decode().strip()\n",
    "cur_dir"
   ]
  },
  {
   "cell_type": "code",
   "execution_count": 32,
   "metadata": {
    "collapsed": false,
    "scrolled": false
   },
   "outputs": [
    {
     "name": "stdout",
     "output_type": "stream",
     "text": [
      "\n",
      "========================\n",
      "Number of clusters: K=2\n",
      "Initial centers:\n",
      "[[237, 104, 243], [179, 121, 37]]\n",
      "========================\n",
      "[[235, 217, 223], [111, 97, 63]]\n",
      "Distortion: J=2474439438\n",
      "[[234, 219, 223], [112, 96, 63]]\n",
      "Distortion: J=899884724\n",
      "[[234, 219, 223], [112, 96, 64]]\n",
      "Distortion: J=899234811\n"
     ]
    }
   ],
   "source": [
    "#for k in Colors:\n",
    "for k in Colors[:1]:\n",
    "    print(\"\")\n",
    "    print(\"========================\")\n",
    "    print(\"Number of clusters: K=%d\" % k)\n",
    "    # 画像ファイルの読み込み\n",
    "    # im = Image.open(\"photo.jpg\")\n",
    "    im = Image.open(cur_dir + \"/../scripts/photo.jpg\")\n",
    "    pixels = list(im.convert('RGB').getdata())\n",
    "    # k平均法による減色処理\n",
    "    result = run_kmeans(pixels, k)\n",
    "    # 画像データの更新とファイル出力\n",
    "    im.putdata(result) # Update image\n",
    "    # im.save(\"output%02d.bmp\" % k, \"BMP\")\n",
    "    DisplayImage(im)"
   ]
  },
  {
   "cell_type": "code",
   "execution_count": 46,
   "metadata": {
    "collapsed": false
   },
   "outputs": [
    {
     "data": {
      "image/png": "[encoded data removed]",
      "text/plain": [
       "<PIL.JpegImagePlugin.JpegImageFile image mode=RGB size=520x346 at 0x10B4B47F0>"
      ]
     },
     "execution_count": 46,
     "metadata": {},
     "output_type": "execute_result"
    }
   ],
   "source": [
    "im"
   ]
  },
  {
   "cell_type": "code",
   "execution_count": 34,
   "metadata": {
    "collapsed": false
   },
   "outputs": [
    {
     "data": {
      "text/plain": [
       "PIL.JpegImagePlugin.JpegImageFile"
      ]
     },
     "execution_count": 34,
     "metadata": {},
     "output_type": "execute_result"
    }
   ],
   "source": [
    "type(im)"
   ]
  },
  {
   "cell_type": "code",
   "execution_count": 35,
   "metadata": {
    "collapsed": false
   },
   "outputs": [
    {
     "name": "stdout",
     "output_type": "stream",
     "text": [
      "<PIL.JpegImagePlugin.JpegImageFile image mode=RGB size=520x346 at 0x10B4B47F0>\n"
     ]
    }
   ],
   "source": [
    "print(im)"
   ]
  },
  {
   "cell_type": "code",
   "execution_count": 37,
   "metadata": {
    "collapsed": false,
    "scrolled": false
   },
   "outputs": [
    {
     "data": {
      "text/plain": [
       "list"
      ]
     },
     "execution_count": 37,
     "metadata": {},
     "output_type": "execute_result"
    }
   ],
   "source": [
    "type(result)"
   ]
  },
  {
   "cell_type": "code",
   "execution_count": 38,
   "metadata": {
    "collapsed": false
   },
   "outputs": [
    {
     "data": {
      "text/plain": [
       "tuple"
      ]
     },
     "execution_count": 38,
     "metadata": {},
     "output_type": "execute_result"
    }
   ],
   "source": [
    "type(result[0])"
   ]
  },
  {
   "cell_type": "code",
   "execution_count": 39,
   "metadata": {
    "collapsed": false
   },
   "outputs": [
    {
     "name": "stdout",
     "output_type": "stream",
     "text": [
      "(234, 219, 223)\n"
     ]
    }
   ],
   "source": [
    "print(result[0])"
   ]
  },
  {
   "cell_type": "code",
   "execution_count": 42,
   "metadata": {
    "collapsed": false
   },
   "outputs": [
    {
     "name": "stderr",
     "output_type": "stream",
     "text": [
      "/Users/knt/.pyenv/versions/anaconda3-2.5.0/lib/python3.5/site-packages/IPython/core/formatters.py:367: FormatterWarning: image/png formatter returned invalid type <class 'list'> (expected (<class 'bytes'>, <class 'str'>)) for object: <IPython.core.display.Image object>\n",
      "  FormatterWarning\n"
     ]
    },
    {
     "data": {
      "text/plain": [
       "<IPython.core.display.Image object>"
      ]
     },
     "execution_count": 42,
     "metadata": {},
     "output_type": "execute_result"
    }
   ],
   "source": [
    "DisplayImage(result)"
   ]
  },
  {
   "cell_type": "code",
   "execution_count": 45,
   "metadata": {
    "collapsed": false
   },
   "outputs": [
    {
     "ename": "ValueError",
     "evalue": "No image data found. Expecting filename, url, or data.",
     "output_type": "error",
     "traceback": [
      "\u001b[0;31m---------------------------------------------------------------------------\u001b[0m",
      "\u001b[0;31mValueError\u001b[0m                                Traceback (most recent call last)",
      "\u001b[0;32m<ipython-input-45-f864b966b227>\u001b[0m in \u001b[0;36m<module>\u001b[0;34m()\u001b[0m\n\u001b[0;32m----> 1\u001b[0;31m \u001b[0mDisplayImage\u001b[0m\u001b[0;34m(\u001b[0m\u001b[0;34m)\u001b[0m\u001b[0;34m\u001b[0m\u001b[0m\n\u001b[0m",
      "\u001b[0;32m/Users/knt/.pyenv/versions/anaconda3-2.5.0/lib/python3.5/site-packages/IPython/core/display.py\u001b[0m in \u001b[0;36m__init__\u001b[0;34m(self, data, url, filename, format, embed, width, height, retina, unconfined, metadata)\u001b[0m\n\u001b[1;32m    707\u001b[0m             \u001b[0mext\u001b[0m \u001b[0;34m=\u001b[0m \u001b[0mself\u001b[0m\u001b[0;34m.\u001b[0m\u001b[0m_find_ext\u001b[0m\u001b[0;34m(\u001b[0m\u001b[0murl\u001b[0m\u001b[0;34m)\u001b[0m\u001b[0;34m\u001b[0m\u001b[0m\n\u001b[1;32m    708\u001b[0m         \u001b[0;32melif\u001b[0m \u001b[0mdata\u001b[0m \u001b[0;32mis\u001b[0m \u001b[0;32mNone\u001b[0m\u001b[0;34m:\u001b[0m\u001b[0;34m\u001b[0m\u001b[0m\n\u001b[0;32m--> 709\u001b[0;31m             \u001b[0;32mraise\u001b[0m \u001b[0mValueError\u001b[0m\u001b[0;34m(\u001b[0m\u001b[0;34m\"No image data found. Expecting filename, url, or data.\"\u001b[0m\u001b[0;34m)\u001b[0m\u001b[0;34m\u001b[0m\u001b[0m\n\u001b[0m\u001b[1;32m    710\u001b[0m         elif isinstance(data, string_types) and (\n\u001b[1;32m    711\u001b[0m             \u001b[0mdata\u001b[0m\u001b[0;34m.\u001b[0m\u001b[0mstartswith\u001b[0m\u001b[0;34m(\u001b[0m\u001b[0;34m'http'\u001b[0m\u001b[0;34m)\u001b[0m \u001b[0;32mor\u001b[0m \u001b[0m_safe_exists\u001b[0m\u001b[0;34m(\u001b[0m\u001b[0mdata\u001b[0m\u001b[0;34m)\u001b[0m\u001b[0;34m\u001b[0m\u001b[0m\n",
      "\u001b[0;31mValueError\u001b[0m: No image data found. Expecting filename, url, or data."
     ]
    }
   ],
   "source": [
    "DisplayImage()"
   ]
  },
  {
   "cell_type": "code",
   "execution_count": 41,
   "metadata": {
    "collapsed": false,
    "scrolled": true
   },
   "outputs": [
    {
     "name": "stdout",
     "output_type": "stream",
     "text": [
      "Help on class Image in module IPython.core.display:\n",
      "\n",
      "class Image(DisplayObject)\n",
      " |  An object that wraps data to be displayed.\n",
      " |  \n",
      " |  Method resolution order:\n",
      " |      Image\n",
      " |      DisplayObject\n",
      " |      builtins.object\n",
      " |  \n",
      " |  Methods defined here:\n",
      " |  \n",
      " |  __init__(self, data=None, url=None, filename=None, format='png', embed=None, width=None, height=None, retina=False, unconfined=False, metadata=None)\n",
      " |      Create a PNG/JPEG image object given raw data.\n",
      " |      \n",
      " |      When this object is returned by an input cell or passed to the\n",
      " |      display function, it will result in the image being displayed\n",
      " |      in the frontend.\n",
      " |      \n",
      " |      Parameters\n",
      " |      ----------\n",
      " |      data : unicode, str or bytes\n",
      " |          The raw image data or a URL or filename to load the data from.\n",
      " |          This always results in embedded image data.\n",
      " |      url : unicode\n",
      " |          A URL to download the data from. If you specify `url=`,\n",
      " |          the image data will not be embedded unless you also specify `embed=True`.\n",
      " |      filename : unicode\n",
      " |          Path to a local file to load the data from.\n",
      " |          Images from a file are always embedded.\n",
      " |      format : unicode\n",
      " |          The format of the image data (png/jpeg/jpg). If a filename or URL is given\n",
      " |          for format will be inferred from the filename extension.\n",
      " |      embed : bool\n",
      " |          Should the image data be embedded using a data URI (True) or be\n",
      " |          loaded using an <img> tag. Set this to True if you want the image\n",
      " |          to be viewable later with no internet connection in the notebook.\n",
      " |      \n",
      " |          Default is `True`, unless the keyword argument `url` is set, then\n",
      " |          default value is `False`.\n",
      " |      \n",
      " |          Note that QtConsole is not able to display images if `embed` is set to `False`\n",
      " |      width : int\n",
      " |          Width to which to constrain the image in html\n",
      " |      height : int\n",
      " |          Height to which to constrain the image in html\n",
      " |      retina : bool\n",
      " |          Automatically set the width and height to half of the measured\n",
      " |          width and height.\n",
      " |          This only works for embedded images because it reads the width/height\n",
      " |          from image data.\n",
      " |          For non-embedded images, you can just set the desired display width\n",
      " |          and height directly.\n",
      " |      unconfined: bool\n",
      " |          Set unconfined=True to disable max-width confinement of the image.\n",
      " |      metadata: dict\n",
      " |          Specify extra metadata to attach to the image.\n",
      " |      \n",
      " |      Examples\n",
      " |      --------\n",
      " |      # embedded image data, works in qtconsole and notebook\n",
      " |      # when passed positionally, the first arg can be any of raw image data,\n",
      " |      # a URL, or a filename from which to load image data.\n",
      " |      # The result is always embedding image data for inline images.\n",
      " |      Image('http://www.google.fr/images/srpr/logo3w.png')\n",
      " |      Image('/path/to/image.jpg')\n",
      " |      Image(b'RAW_PNG_DATA...')\n",
      " |      \n",
      " |      # Specifying Image(url=...) does not embed the image data,\n",
      " |      # it only generates `<img>` tag with a link to the source.\n",
      " |      # This will not work in the qtconsole or offline.\n",
      " |      Image(url='http://www.google.fr/images/srpr/logo3w.png')\n",
      " |  \n",
      " |  reload(self)\n",
      " |      Reload the raw data from file or URL.\n",
      " |  \n",
      " |  ----------------------------------------------------------------------\n",
      " |  Methods inherited from DisplayObject:\n",
      " |  \n",
      " |  __repr__(self)\n",
      " |      Return repr(self).\n",
      " |  \n",
      " |  ----------------------------------------------------------------------\n",
      " |  Data descriptors inherited from DisplayObject:\n",
      " |  \n",
      " |  __dict__\n",
      " |      dictionary for instance variables (if defined)\n",
      " |  \n",
      " |  __weakref__\n",
      " |      list of weak references to the object (if defined)\n",
      "\n"
     ]
    }
   ],
   "source": [
    "help(DisplayImage)"
   ]
  }
 ],
 "metadata": {
  "hide_input": false,
  "kernelspec": {
   "display_name": "Python 3",
   "language": "python",
   "name": "python3"
  },
  "language_info": {
   "codemirror_mode": {
    "name": "ipython",
    "version": 3
   },
   "file_extension": ".py",
   "mimetype": "text/x-python",
   "name": "python",
   "nbconvert_exporter": "python",
   "pygments_lexer": "ipython3",
   "version": "3.5.1"
  },
  "toc": {
   "toc_cell": false,
   "toc_number_sections": true,
   "toc_threshold": 6,
   "toc_window_display": false
  }
 },
 "nbformat": 4,
 "nbformat_minor": 0
}
