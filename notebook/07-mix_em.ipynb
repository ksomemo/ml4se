{
 "cells": [
  {
   "cell_type": "code",
   "execution_count": 1,
   "metadata": {
    "collapsed": true
   },
   "outputs": [],
   "source": [
    "# 混合ベルヌーイ分布による手書き文字分類\n",
    "#\n",
    "# 2015/04/24 ver1.0\n",
    "#\n",
    "\n",
    "import numpy as np\n",
    "import matplotlib.pyplot as plt\n",
    "import pandas as pd\n",
    "from pandas import Series, DataFrame\n",
    "from numpy.random import randint, rand\n",
    "\n",
    "%matplotlib inline"
   ]
  },
  {
   "cell_type": "code",
   "execution_count": 2,
   "metadata": {
    "collapsed": true
   },
   "outputs": [],
   "source": [
    "#------------#\n",
    "# Parameters #\n",
    "#------------#\n",
    "K = 3   # 分類する文字数\n",
    "N = 10  # 反復回数\n"
   ]
  },
  {
   "cell_type": "code",
   "execution_count": 3,
   "metadata": {
    "collapsed": true
   },
   "outputs": [],
   "source": [
    "# 分類結果の表示\n",
    "def show_figure(mu, cls):\n",
    "    fig = plt.figure()\n",
    "    for c in range(K):\n",
    "        subplot = fig.add_subplot(K,7,c*7+1)\n",
    "        subplot.set_xticks([])\n",
    "        subplot.set_yticks([])\n",
    "        subplot.set_title('Master')\n",
    "        subplot.imshow(mu[c].reshape(28,28), cmap=plt.cm.gray_r)\n",
    "        i = 1\n",
    "        for j in range(len(cls)):\n",
    "            if cls[j] == c:\n",
    "                subplot = fig.add_subplot(K,7,c*7+i+1)\n",
    "                subplot.set_xticks([])\n",
    "                subplot.set_yticks([])\n",
    "                subplot.imshow(df.ix[j].reshape(28,28), cmap=plt.cm.gray_r)\n",
    "                i += 1\n",
    "                if i > 6:\n",
    "                    break\n",
    "    "
   ]
  },
  {
   "cell_type": "code",
   "execution_count": 4,
   "metadata": {
    "collapsed": true
   },
   "outputs": [],
   "source": [
    "# ベルヌーイ分布\n",
    "def bern(x, mu):\n",
    "    r = 1.0\n",
    "    for x_i, mu_i in zip(x, mu):\n",
    "        if x_i == 1:\n",
    "            r *= mu_i \n",
    "        else:\n",
    "            r *= (1.0 - mu_i)\n",
    "    return r"
   ]
  },
  {
   "cell_type": "code",
   "execution_count": 7,
   "metadata": {
    "collapsed": false
   },
   "outputs": [
    {
     "data": {
      "text/plain": [
       "'/Users/knt/programming/python/ml4se/notebook'"
      ]
     },
     "execution_count": 7,
     "metadata": {},
     "output_type": "execute_result"
    }
   ],
   "source": [
    "import subprocess\n",
    "cur_dir = subprocess.check_output([\"pwd\"]).decode().strip()\n",
    "cur_dir"
   ]
  },
  {
   "cell_type": "code",
   "execution_count": 10,
   "metadata": {
    "collapsed": false
   },
   "outputs": [
    {
     "data": {
      "text/html": [
       "<div>\n",
       "<table border=\"1\" class=\"dataframe\">\n",
       "  <thead>\n",
       "    <tr style=\"text-align: right;\">\n",
       "      <th></th>\n",
       "      <th>0</th>\n",
       "      <th>1</th>\n",
       "      <th>2</th>\n",
       "      <th>3</th>\n",
       "      <th>4</th>\n",
       "      <th>5</th>\n",
       "      <th>6</th>\n",
       "      <th>7</th>\n",
       "      <th>8</th>\n",
       "      <th>9</th>\n",
       "      <th>...</th>\n",
       "      <th>774</th>\n",
       "      <th>775</th>\n",
       "      <th>776</th>\n",
       "      <th>777</th>\n",
       "      <th>778</th>\n",
       "      <th>779</th>\n",
       "      <th>780</th>\n",
       "      <th>781</th>\n",
       "      <th>782</th>\n",
       "      <th>783</th>\n",
       "    </tr>\n",
       "  </thead>\n",
       "  <tbody>\n",
       "    <tr>\n",
       "      <th>595</th>\n",
       "      <td>0</td>\n",
       "      <td>0</td>\n",
       "      <td>0</td>\n",
       "      <td>0</td>\n",
       "      <td>0</td>\n",
       "      <td>0</td>\n",
       "      <td>0</td>\n",
       "      <td>0</td>\n",
       "      <td>0</td>\n",
       "      <td>0</td>\n",
       "      <td>...</td>\n",
       "      <td>0</td>\n",
       "      <td>0</td>\n",
       "      <td>0</td>\n",
       "      <td>0</td>\n",
       "      <td>0</td>\n",
       "      <td>0</td>\n",
       "      <td>0</td>\n",
       "      <td>0</td>\n",
       "      <td>0</td>\n",
       "      <td>0</td>\n",
       "    </tr>\n",
       "    <tr>\n",
       "      <th>596</th>\n",
       "      <td>0</td>\n",
       "      <td>0</td>\n",
       "      <td>0</td>\n",
       "      <td>0</td>\n",
       "      <td>0</td>\n",
       "      <td>0</td>\n",
       "      <td>0</td>\n",
       "      <td>0</td>\n",
       "      <td>0</td>\n",
       "      <td>0</td>\n",
       "      <td>...</td>\n",
       "      <td>0</td>\n",
       "      <td>0</td>\n",
       "      <td>0</td>\n",
       "      <td>0</td>\n",
       "      <td>0</td>\n",
       "      <td>0</td>\n",
       "      <td>0</td>\n",
       "      <td>0</td>\n",
       "      <td>0</td>\n",
       "      <td>0</td>\n",
       "    </tr>\n",
       "    <tr>\n",
       "      <th>597</th>\n",
       "      <td>0</td>\n",
       "      <td>0</td>\n",
       "      <td>0</td>\n",
       "      <td>0</td>\n",
       "      <td>0</td>\n",
       "      <td>0</td>\n",
       "      <td>0</td>\n",
       "      <td>0</td>\n",
       "      <td>0</td>\n",
       "      <td>0</td>\n",
       "      <td>...</td>\n",
       "      <td>0</td>\n",
       "      <td>0</td>\n",
       "      <td>0</td>\n",
       "      <td>0</td>\n",
       "      <td>0</td>\n",
       "      <td>0</td>\n",
       "      <td>0</td>\n",
       "      <td>0</td>\n",
       "      <td>0</td>\n",
       "      <td>0</td>\n",
       "    </tr>\n",
       "    <tr>\n",
       "      <th>598</th>\n",
       "      <td>0</td>\n",
       "      <td>0</td>\n",
       "      <td>0</td>\n",
       "      <td>0</td>\n",
       "      <td>0</td>\n",
       "      <td>0</td>\n",
       "      <td>0</td>\n",
       "      <td>0</td>\n",
       "      <td>0</td>\n",
       "      <td>0</td>\n",
       "      <td>...</td>\n",
       "      <td>0</td>\n",
       "      <td>0</td>\n",
       "      <td>0</td>\n",
       "      <td>0</td>\n",
       "      <td>0</td>\n",
       "      <td>0</td>\n",
       "      <td>0</td>\n",
       "      <td>0</td>\n",
       "      <td>0</td>\n",
       "      <td>0</td>\n",
       "    </tr>\n",
       "    <tr>\n",
       "      <th>599</th>\n",
       "      <td>0</td>\n",
       "      <td>0</td>\n",
       "      <td>0</td>\n",
       "      <td>0</td>\n",
       "      <td>0</td>\n",
       "      <td>0</td>\n",
       "      <td>0</td>\n",
       "      <td>0</td>\n",
       "      <td>0</td>\n",
       "      <td>0</td>\n",
       "      <td>...</td>\n",
       "      <td>0</td>\n",
       "      <td>0</td>\n",
       "      <td>0</td>\n",
       "      <td>0</td>\n",
       "      <td>0</td>\n",
       "      <td>0</td>\n",
       "      <td>0</td>\n",
       "      <td>0</td>\n",
       "      <td>0</td>\n",
       "      <td>0</td>\n",
       "    </tr>\n",
       "  </tbody>\n",
       "</table>\n",
       "<p>5 rows × 784 columns</p>\n",
       "</div>"
      ],
      "text/plain": [
       "     0    1    2    3    4    5    6    7    8    9   ...   774  775  776  \\\n",
       "595    0    0    0    0    0    0    0    0    0    0 ...     0    0    0   \n",
       "596    0    0    0    0    0    0    0    0    0    0 ...     0    0    0   \n",
       "597    0    0    0    0    0    0    0    0    0    0 ...     0    0    0   \n",
       "598    0    0    0    0    0    0    0    0    0    0 ...     0    0    0   \n",
       "599    0    0    0    0    0    0    0    0    0    0 ...     0    0    0   \n",
       "\n",
       "     777  778  779  780  781  782  783  \n",
       "595    0    0    0    0    0    0    0  \n",
       "596    0    0    0    0    0    0    0  \n",
       "597    0    0    0    0    0    0    0  \n",
       "598    0    0    0    0    0    0    0  \n",
       "599    0    0    0    0    0    0    0  \n",
       "\n",
       "[5 rows x 784 columns]"
      ]
     },
     "execution_count": 10,
     "metadata": {},
     "output_type": "execute_result"
    }
   ],
   "source": [
    "# トレーニングセットの読み込み\n",
    "# df = pd.read_csv('sample-images.txt', sep=\",\", header=None)\n",
    "df = pd.read_csv(cur_dir + '/../scripts/sample-images.txt', sep=\",\", header=None)\n",
    "data_num = len(df)\n",
    "df.tail()"
   ]
  },
  {
   "cell_type": "code",
   "execution_count": 11,
   "metadata": {
    "collapsed": true
   },
   "outputs": [],
   "source": [
    "# 初期パラメータの設定\n",
    "mix = [1.0/K] * K\n",
    "mu = (rand(28*28*K)*0.5+0.25).reshape(K, 28*28)\n",
    "for k in range(K):\n",
    "    mu[k] /= mu[k].sum()"
   ]
  },
  {
   "cell_type": "code",
   "execution_count": 12,
   "metadata": {
    "collapsed": false
   },
   "outputs": [
    {
     "data": {
      "image/png": "[encoded data removed]",
      "text/plain": [
       "<matplotlib.figure.Figure at 0x1170bd550>"
      ]
     },
     "metadata": {},
     "output_type": "display_data"
    }
   ],
   "source": [
    "fig = plt.figure()\n",
    "for k in range(K):\n",
    "    subplot = fig.add_subplot(K, N+1, k*(N+1)+1)\n",
    "    subplot.set_xticks([])\n",
    "    subplot.set_yticks([])\n",
    "    subplot.imshow(mu[k].reshape(28,28), cmap=plt.cm.gray_r)\n",
    "# fig.show()\n"
   ]
  },
  {
   "cell_type": "code",
   "execution_count": 14,
   "metadata": {
    "collapsed": false
   },
   "outputs": [
    {
     "name": "stdout",
     "output_type": "stream",
     "text": [
      "iter_num 0\n",
      "iter_num 1\n",
      "iter_num 2\n",
      "iter_num 3\n",
      "iter_num 4\n",
      "iter_num 5\n",
      "iter_num 6\n",
      "iter_num 7\n",
      "iter_num 8\n",
      "iter_num 9\n"
     ]
    }
   ],
   "source": [
    "# N回のIterationを実施\n",
    "for iter_num in range(N):\n",
    "    print(\"iter_num %d\" % iter_num)\n",
    "\n",
    "    # E phase\n",
    "    resp = DataFrame()\n",
    "    for index, line in df.iterrows():\n",
    "        tmp = []\n",
    "        for k in range(K):\n",
    "            a = mix[k] * bern(line, mu[k])\n",
    "            if a == 0:\n",
    "                tmp.append(0.0)\n",
    "            else:\n",
    "                s = 0.0\n",
    "                for kk in range(K):\n",
    "                    s += mix[kk] * bern(line, mu[kk])\n",
    "                tmp.append(a/s)\n",
    "        resp = resp.append([tmp], ignore_index=True)\n",
    "\n",
    "    # M phase\n",
    "    for k in range(K):\n",
    "        nk = resp[k].sum()\n",
    "        mix[k] = nk/data_num\n",
    "        for index, line in df.iterrows():\n",
    "            mu[k] += line * resp[k][index]\n",
    "        mu[k] /= nk\n",
    "\n",
    "        subplot = fig.add_subplot(K, N+1, k*(N+1)+(iter_num+1)+1)\n",
    "        subplot.set_xticks([])\n",
    "        subplot.set_yticks([])\n",
    "        subplot.imshow(mu[k].reshape(28,28), cmap=plt.cm.gray_r)\n",
    "#    fig.show()\n"
   ]
  },
  {
   "cell_type": "code",
   "execution_count": 15,
   "metadata": {
    "collapsed": false
   },
   "outputs": [
    {
     "data": {
      "image/png": "[encoded data removed]",
      "text/plain": [
       "<matplotlib.figure.Figure at 0x103279198>"
      ]
     },
     "metadata": {},
     "output_type": "display_data"
    }
   ],
   "source": [
    "# トレーニングセットの文字を分類\n",
    "cls = []\n",
    "for index, line in resp.iterrows():\n",
    "    cls.append(np.argmax(line[0:]))\n",
    "\n",
    "# 分類結果の表示\n",
    "show_figure(mu, cls)\n"
   ]
  }
 ],
 "metadata": {
  "hide_input": false,
  "kernelspec": {
   "display_name": "Python 3",
   "language": "python",
   "name": "python3"
  },
  "language_info": {
   "codemirror_mode": {
    "name": "ipython",
    "version": 3
   },
   "file_extension": ".py",
   "mimetype": "text/x-python",
   "name": "python",
   "nbconvert_exporter": "python",
   "pygments_lexer": "ipython3",
   "version": "3.5.1"
  },
  "toc": {
   "toc_cell": false,
   "toc_number_sections": true,
   "toc_threshold": 6,
   "toc_window_display": false
  }
 },
 "nbformat": 4,
 "nbformat_minor": 0
}
